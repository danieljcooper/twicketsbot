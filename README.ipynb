{
 "cells": [
  {
   "cell_type": "markdown",
   "metadata": {},
   "source": [
    "Introduction\n",
    "\n",
    "Accessing Twickets via API key\n",
    "\n",
    "https://www.twickets.live/services/countries?api_key=TWICKETS_API_KEY\n",
    "\n",
    "\n",
    "https://www.twickets.live/services/g2/inventory/listings/1884917808408563712?api_key=83d6ec0c-54bb-4da3-b2a1-f3cb47b984f1\n",
    "\n",
    "Source\n",
    "\n",
    "The code for this project was adapted from https://github.com/mlinzner/twicket-get/tree/master\n"
   ]
  }
 ],
 "metadata": {
  "language_info": {
   "name": "python"
  }
 },
 "nbformat": 4,
 "nbformat_minor": 2
}
